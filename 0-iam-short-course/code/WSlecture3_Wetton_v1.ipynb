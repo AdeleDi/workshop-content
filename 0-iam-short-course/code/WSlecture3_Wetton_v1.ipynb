{
 "cells": [
  {
   "cell_type": "markdown",
   "metadata": {},
   "source": [
    "# IAM Data Science Pre-Workshop Linear Algebra Lecture #3"
   ]
  },
  {
   "cell_type": "markdown",
   "metadata": {},
   "source": [
    "### Switched to Python 3"
   ]
  },
  {
   "cell_type": "markdown",
   "metadata": {},
   "source": [
    "## Usual Slate of Package Initialization"
   ]
  },
  {
   "cell_type": "code",
   "execution_count": null,
   "metadata": {
    "collapsed": true
   },
   "outputs": [],
   "source": [
    "import scipy as sp\n",
    "import scipy.linalg as la\n",
    "import numpy as np\n",
    "import math\n",
    "import matplotlib\n",
    "import matplotlib.cm as cm\n",
    "import matplotlib.mlab as mlab\n",
    "import matplotlib.pyplot as plt\n",
    "import time\n",
    "from PIL import Image\n",
    "%matplotlib inline\n",
    "np.set_printoptions(precision=3)"
   ]
  },
  {
   "cell_type": "markdown",
   "metadata": {},
   "source": [
    "## Motivation of Eigenanalysis from Markov Processes"
   ]
  },
  {
   "cell_type": "markdown",
   "metadata": {},
   "source": [
    "$4 \\times 4$ transition matrix"
   ]
  },
  {
   "cell_type": "code",
   "execution_count": null,
   "metadata": {},
   "outputs": [],
   "source": [
    "P = np.array([[0,1/4,1/2,0], [1/2,1/4,0,1/2],[1/2,1/4,0,0],[0,1/4,1/2,1/2]])\n",
    "print(P)"
   ]
  },
  {
   "cell_type": "markdown",
   "metadata": {},
   "source": [
    "Start at state 1 and look at the state at time $\\alpha$ and $P^\\alpha$"
   ]
  },
  {
   "cell_type": "code",
   "execution_count": null,
   "metadata": {},
   "outputs": [],
   "source": [
    "alpha = 2000\n",
    "Palpha = np.linalg.matrix_power(P,alpha)\n",
    "x0 = np.array([1.,0,0,0])\n",
    "xalpha = np.dot(Palpha,x0)\n",
    "print('state:', xalpha)\n",
    "print('\\nalpha power of P\\n',Palpha)"
   ]
  },
  {
   "cell_type": "markdown",
   "metadata": {},
   "source": [
    "Now do the eigenanalysis of P"
   ]
  },
  {
   "cell_type": "code",
   "execution_count": null,
   "metadata": {},
   "outputs": [],
   "source": [
    "(v,r) = la.eig(P)\n",
    "fact = np.sum(r[:,0])\n",
    "r[:,0] = r[:,0]/fact # I scale the first eigenvector to make it a probability vector\n",
    "print('Eigenvalues:', v)\n",
    "print('\\nEigenvectors in columns:\\n',r)"
   ]
  },
  {
   "cell_type": "markdown",
   "metadata": {},
   "source": [
    "Check that it did what we think it should (i.e. verify that `r[:,0]` really is an eigenvector)."
   ]
  },
  {
   "cell_type": "code",
   "execution_count": null,
   "metadata": {},
   "outputs": [],
   "source": [
    "print(np.dot(P,r[:,0]))"
   ]
  },
  {
   "cell_type": "code",
   "execution_count": null,
   "metadata": {},
   "outputs": [],
   "source": [
    "print('Original P:\\n',P, \"\\n\")\n",
    "print('RDRinv =P?:\\n',r@sp.diag(v)@np.linalg.inv(r))"
   ]
  },
  {
   "cell_type": "markdown",
   "metadata": {},
   "source": [
    "That's hard to parse because of entries like `-1.203e-16+0.j`, so we can use `numpy`'s `round` function, and only look at the real entries (because we can see the complex ones vanish."
   ]
  },
  {
   "cell_type": "code",
   "execution_count": null,
   "metadata": {},
   "outputs": [],
   "source": [
    "print('Original P:\\n',P, \"\\n\")\n",
    "print('RDRinv =P?:\\n',(r@sp.diag(v)@np.linalg.inv(r)).real.round(2))"
   ]
  },
  {
   "cell_type": "markdown",
   "metadata": {},
   "source": [
    "## Symmetric Matrices"
   ]
  },
  {
   "cell_type": "code",
   "execution_count": null,
   "metadata": {},
   "outputs": [],
   "source": [
    "A = np.array([[1,2],[2,1]])\n",
    "print('Matrix: \\n',A)\n",
    "(v,r) = np.linalg.eig(A)\n",
    "print('\\nEigenanalysis:', v, \"\\n\")\n",
    "print(r)"
   ]
  },
  {
   "cell_type": "markdown",
   "metadata": {},
   "source": [
    "Example from the 1D finite difference discretization from lecture #1"
   ]
  },
  {
   "cell_type": "code",
   "execution_count": null,
   "metadata": {},
   "outputs": [],
   "source": [
    "N = 8;\n",
    "pi = math.pi\n",
    "h = 2*pi/N     # grid spacing\n",
    "fact = 1/(h**2)\n",
    "ond = np.zeros(N)+2*fact+1;\n",
    "offd = np.zeros(N-1)-fact;\n",
    "A = np.diag(ond,0)+np.diag(offd,1)+np.diag(offd,-1) # matrix is mostly tridiagonal\n",
    "A[0,N-1] = -fact # terms from periodicity\n",
    "A[N-1,0] = -fact\n",
    "(v,r) = la.eig(A)\n",
    "print('Eigenanalysis:\\n',v)\n",
    "print('n',r)"
   ]
  },
  {
   "cell_type": "markdown",
   "metadata": {},
   "source": [
    "# Transform Methods"
   ]
  },
  {
   "cell_type": "markdown",
   "metadata": {},
   "source": [
    "Same 1D code from lecture 1"
   ]
  },
  {
   "cell_type": "code",
   "execution_count": null,
   "metadata": {},
   "outputs": [],
   "source": [
    "N = 16;\n",
    "pi = math.pi\n",
    "h = 2*pi/N     # grid spacing\n",
    "fact = 1/(h**2)\n",
    "ond = np.zeros(N)+2*fact+1;\n",
    "offd = np.zeros(N-1)-fact;\n",
    "A = np.diag(ond,0)+np.diag(offd,1)+np.diag(offd,-1) # matrix is mostly tridiagonal\n",
    "A[0,N-1] = -fact # terms from periodicity\n",
    "A[N-1,0] = -fact\n",
    "x = np.arange(N)*h\n",
    "uexact = np.zeros(N) # exact solution\n",
    "rhs = np.zeros(N) # RHS f that matches the exact solution\n",
    "uexact = np.exp(np.cos(x))\n",
    "rhs = uexact*(np.cos(x)+np.cos(x)**2) \n",
    "u = np.linalg.solve(A, rhs) # solve \n",
    "error = np.amax(np.absolute(u-uexact)) # maximum norm of the error\n",
    "print('Maximum norm error %10.4e' % error)"
   ]
  },
  {
   "cell_type": "markdown",
   "metadata": {},
   "source": [
    "Solve based on the DFT diagonalization"
   ]
  },
  {
   "cell_type": "code",
   "execution_count": null,
   "metadata": {},
   "outputs": [],
   "source": [
    "alpha = np.arange(N)\n",
    "symbol = (2-2*np.cos(alpha*h))/h**2 +1\n",
    "rhs_hat = np.fft.fft(rhs)\n",
    "u_hat = rhs_hat/symbol\n",
    "u= np.fft.ifft(u_hat)\n",
    "error = np.amax(np.absolute(u-uexact)) # maximum norm of the error\n",
    "print('Maximum norm error %10.4e' % error)"
   ]
  },
  {
   "cell_type": "markdown",
   "metadata": {},
   "source": [
    "Spectrally accurate approximation "
   ]
  },
  {
   "cell_type": "code",
   "execution_count": null,
   "metadata": {},
   "outputs": [],
   "source": [
    "alpha2 = np.concatenate((np.arange(N/2+1), np.arange(-N/2+1,0,1)))\n",
    "symbol = alpha2**2 +1\n",
    "rhs_hat = np.fft.fft(rhs)\n",
    "u_hat = rhs_hat/symbol\n",
    "u= np.fft.ifft(u_hat)\n",
    "error = np.amax(np.absolute(u-uexact)) # maximum norm of the error\n",
    "print('Maximum norm error %10.4e' % error)"
   ]
  },
  {
   "cell_type": "markdown",
   "metadata": {},
   "source": [
    "## Singular Value Decomposition "
   ]
  },
  {
   "cell_type": "markdown",
   "metadata": {},
   "source": [
    "### Geometrical interpretations of the SVD"
   ]
  },
  {
   "cell_type": "markdown",
   "metadata": {},
   "source": [
    "video: https://www.youtube.com/watch?v=NsNNI_-JPUY"
   ]
  },
  {
   "cell_type": "markdown",
   "metadata": {},
   "source": [
    "algebraic: it is a rank one decomposition\n",
    "$$\n",
    "\\sum_{i=1}^n \\sigma_i u_i v_i^T \n",
    "$$"
   ]
  },
  {
   "cell_type": "markdown",
   "metadata": {},
   "source": [
    "#### If A is SPD then SVD is just eigenanlysis"
   ]
  },
  {
   "cell_type": "code",
   "execution_count": null,
   "metadata": {},
   "outputs": [],
   "source": [
    "A = np.array([[3,-1],[-1,3]])\n",
    "(v,r) = np.linalg.eig(A)\n",
    "print('Eigenanalysis:\\n',v)\n",
    "print('\\n',r)\n",
    "(u,s,v) = np.linalg.svd(A)\n",
    "print('\\n \\n SVD u, s, v\\n',u)\n",
    "print('\\n',s)\n",
    "print('\\n',v)"
   ]
  },
  {
   "cell_type": "markdown",
   "metadata": {},
   "source": [
    "#### If A is symmetric but has eigenvalues of mixed sign"
   ]
  },
  {
   "cell_type": "code",
   "execution_count": null,
   "metadata": {
    "scrolled": true
   },
   "outputs": [],
   "source": [
    "A = np.array([[1,2],[2,1]])\n",
    "(v,r) = np.linalg.eig(A)\n",
    "print('Eigenanalysis:\\n',v)\n",
    "print('\\n',r)\n",
    "(u,s,v) = np.linalg.svd(A)\n",
    "print('\\n \\n SVD u, s, v\\n',u)\n",
    "print('\\n',s)\n",
    "print('\\n',v)"
   ]
  },
  {
   "cell_type": "markdown",
   "metadata": {},
   "source": [
    "#### If A is not diagonalizable"
   ]
  },
  {
   "cell_type": "code",
   "execution_count": null,
   "metadata": {},
   "outputs": [],
   "source": [
    "A = np.array([[1,1],[0,1]])\n",
    "(v,r) = np.linalg.eig(A)\n",
    "print('Eigenanalysis:\\n',v)\n",
    "print('\\n',r)\n",
    "(u,s,v) = np.linalg.svd(A)\n",
    "print('\\n \\n SVD u, s, v\\n',u)\n",
    "print('\\n',s)\n",
    "print('\\n',v)"
   ]
  },
  {
   "cell_type": "markdown",
   "metadata": {},
   "source": [
    "## SVD for least squares"
   ]
  },
  {
   "cell_type": "code",
   "execution_count": null,
   "metadata": {},
   "outputs": [],
   "source": [
    "N = 20\n",
    "h = 1./N\n",
    "noise = 0.1\n",
    "x = np.arange(N)*h\n",
    "yexact = np.exp(x)\n",
    "y = yexact+noise*np.random.normal(size=x.shape)\n",
    "xmatrix = np.column_stack([x, np.ones(N)])\n",
    "(u,s,v) = np.linalg.svd(xmatrix)\n",
    "smatrix = np.zeros((2,N))\n",
    "smatrix[0,0] = 1/s[0]\n",
    "smatrix[1,1] = 1/s[1]\n",
    "z = v.T@smatrix@u.T@y\n",
    "m = z[0]\n",
    "b = z[1]\n",
    "print ('from SVD: m: %10.6f b: %10.6f' % (m,b))\n",
    "yfit = m*x+b\n",
    "plt.figure(1)\n",
    "plt.plot(x,yexact,x,y,'ro',x,yfit)\n",
    "plt.show()\n",
    "m, b = np.linalg.lstsq(xmatrix,y)[0]\n",
    "print ('from least squares package m: %10.6f b: %10.6f' % (m,b))"
   ]
  },
  {
   "cell_type": "markdown",
   "metadata": {},
   "source": [
    "## SVD for Image compression"
   ]
  },
  {
   "cell_type": "markdown",
   "metadata": {},
   "source": [
    "Code courtesy of Frank Cleary, taken directly from \n",
    "http://www.frankcleary.com/svdimage/"
   ]
  },
  {
   "cell_type": "markdown",
   "metadata": {},
   "source": [
    "Jpeg image of my old father (90 years old)"
   ]
  },
  {
   "cell_type": "code",
   "execution_count": null,
   "metadata": {},
   "outputs": [],
   "source": [
    "img = Image.open('dad_intellectual.JPG')\n",
    "imggray = img.convert('LA')\n",
    "plt.figure(figsize=(9, 6))\n",
    "plt.imshow(imggray);\n",
    "print('Image size:',imggray.size[1],' by ', imggray.size[0])"
   ]
  },
  {
   "cell_type": "markdown",
   "metadata": {},
   "source": [
    "Turn it into a floating point matrix, does not change the image"
   ]
  },
  {
   "cell_type": "code",
   "execution_count": null,
   "metadata": {},
   "outputs": [],
   "source": [
    "imgmat = np.array(list(imggray.getdata(band=0)), float)\n",
    "imgmat.shape = (imggray.size[1], imggray.size[0])\n",
    "imgmat = np.matrix(imgmat)\n",
    "plt.figure(figsize=(9,6))\n",
    "plt.imshow(imgmat, cmap='gray');"
   ]
  },
  {
   "cell_type": "markdown",
   "metadata": {},
   "source": [
    "Perform the SVD"
   ]
  },
  {
   "cell_type": "code",
   "execution_count": null,
   "metadata": {
    "collapsed": true
   },
   "outputs": [],
   "source": [
    "U, sigma, V = np.linalg.svd(imgmat)"
   ]
  },
  {
   "cell_type": "markdown",
   "metadata": {},
   "source": [
    "Now reconstruct the image using only i terms of the rank 1 decomposition"
   ]
  },
  {
   "cell_type": "code",
   "execution_count": null,
   "metadata": {},
   "outputs": [],
   "source": [
    "i=50\n",
    "reconstimg = np.matrix(U[:, :i]) * np.diag(sigma[:i]) * np.matrix(V[:i, :])\n",
    "plt.imshow(reconstimg, cmap='gray')\n",
    "title = \"n = %s\" % i\n",
    "plt.title(title)\n",
    "plt.show()\n"
   ]
  },
  {
   "cell_type": "code",
   "execution_count": null,
   "metadata": {
    "collapsed": true
   },
   "outputs": [],
   "source": []
  }
 ],
 "metadata": {
  "kernelspec": {
   "display_name": "Python 3",
   "language": "python",
   "name": "python3"
  },
  "language_info": {
   "codemirror_mode": {
    "name": "ipython",
    "version": 3
   },
   "file_extension": ".py",
   "mimetype": "text/x-python",
   "name": "python",
   "nbconvert_exporter": "python",
   "pygments_lexer": "ipython3",
   "version": "3.6.1"
  }
 },
 "nbformat": 4,
 "nbformat_minor": 2
}
