{
 "cells": [
  {
   "cell_type": "markdown",
   "metadata": {},
   "source": [
    "# Pull Requests\n",
    "\n",
    "## Tutorials\n",
    "* [Hands-on tutorial](https://yangsu.github.io/pull-request-tutorial/)\n",
    "* [From Atlassian (BitBucket)](https://www.atlassian.com/git/tutorials/making-a-pull-request)\n",
    "* [About Pull Requests from GitHub](https://help.github.com/articles/about-pull-requests/) and [Creating PRs from GitHub](https://help.github.com/articles/creating-a-pull-request/)\n",
    "* [GitHub Forking using `git`](https://gist.github.com/Chaser324/ce0505fbed06b947d962)"
   ]
  }
 ],
 "metadata": {
  "kernelspec": {
   "display_name": "Python 3",
   "language": "python",
   "name": "python3"
  },
  "language_info": {
   "codemirror_mode": {
    "name": "ipython",
    "version": 3
   },
   "file_extension": ".py",
   "mimetype": "text/x-python",
   "name": "python",
   "nbconvert_exporter": "python",
   "pygments_lexer": "ipython3",
   "version": "3.6.1"
  }
 },
 "nbformat": 4,
 "nbformat_minor": 2
}
